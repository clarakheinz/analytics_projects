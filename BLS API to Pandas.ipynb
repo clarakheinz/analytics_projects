{
 "cells": [
  {
   "cell_type": "markdown",
   "metadata": {},
   "source": [
    "## Accessing Bureau of Labor Statistics data\n",
    "\n",
    "The Bureau of Labor Statistics (BLS) has an API with sample code in many languages to allow people to directly access their data, provided you know the series id for the data you would like. The BLS sample code dumps the data into a csv for each series you may be trying to access. Sometimes, it is nice to be able to work with the data in a form you are familiar with and able to manipulate. I am personally more familiar with working in pandas for analytics. This is my code to grab a few series and take them from the json data format into a pandas data frame in a single function. We'll add in the series label and sort the dataframe too, just for fun.\n",
    "\n",
    "In this notebook I also webscrape the BLS website's page that lists every area code available in their data series. Below I will demonstrate grabbing 2-3 counties worth of average weekly wage data and placing it into a pandas dataframe for analysis. I'd love to grab all counties at once but the BLS server has a rate limit of 500 requests/day. So we will work with just the first few from the scraped list."
   ]
  },
  {
   "cell_type": "code",
   "execution_count": 1,
   "metadata": {},
   "outputs": [],
   "source": [
    "import pandas as pd\n",
    "import requests\n",
    "import json"
   ]
  },
  {
   "cell_type": "code",
   "execution_count": 2,
   "metadata": {},
   "outputs": [],
   "source": [
    "## webscrape function to grab area codes for unemployment\n",
    "from bs4 import BeautifulSoup\n",
    "def bls_areas():\n",
    "    main_site = requests.get('https://data.bls.gov/cew/doc/titles/area/area_titles.htm')\n",
    "    main_soup = BeautifulSoup(main_site.content, 'html.parser')\n",
    "    table = main_soup.find(id='area_title')\n",
    "    area_codes = {}\n",
    "    rows = table.find_all('tr')\n",
    "    for row in rows[1:]:\n",
    "        data = row.find_all('td')\n",
    "        area_codes[data[0].text] = data[1].text\n",
    "    return area_codes\n",
    "\n",
    "## function to grab the data from BLS website and transform into a pandas dataframe\n",
    "def get_bls_data(series, start_year, end_year):\n",
    "    headers = {'Content-type': 'application/json'}\n",
    "    data = json.dumps({\"seriesid\": ['ENU0100740010','ENU0100940010','ENU0101140010'],\"startyear\":start_year, \"endyear\":end_year})\n",
    "    p = requests.post('https://api.bls.gov/publicAPI/v2/timeseries/data/', data=data, headers=headers)\n",
    "    json_data = json.loads(p.text)\n",
    "    df = pd.DataFrame()\n",
    "    for series in json_data['Results']['series']:\n",
    "        seriesId = series['seriesID']\n",
    "        for item in series['data']:\n",
    "            year = item['year']\n",
    "            period = item['period']\n",
    "            value = item['value']\n",
    "            df = df.append({'series_id':seriesId, 'year':year,'period':period,'value':value}, ignore_index=True)\n",
    "    return df"
   ]
  },
  {
   "cell_type": "code",
   "execution_count": 3,
   "metadata": {},
   "outputs": [
    {
     "data": {
      "text/plain": [
       "{'01007': 'Bibb County, Alabama',\n",
       " '01009': 'Blount County, Alabama',\n",
       " '01011': 'Bullock County, Alabama'}"
      ]
     },
     "execution_count": 3,
     "metadata": {},
     "output_type": "execute_result"
    }
   ],
   "source": [
    "area_codes = bls_areas()\n",
    "area_codes = {k: area_codes[k] for k in sorted(area_codes.keys())[4:7]}\n",
    "area_codes"
   ]
  },
  {
   "cell_type": "code",
   "execution_count": 4,
   "metadata": {},
   "outputs": [
    {
     "name": "stdout",
     "output_type": "stream",
     "text": [
      "['ENU0100740010', 'ENU0100940010', 'ENU0101140010']\n"
     ]
    }
   ],
   "source": [
    "## Build the series codes via BLS formats\n",
    "## https://www.bls.gov/help/hlpforma.htm#OCWC\n",
    "series_code_prefix = 'ENU'\n",
    "series_code_suffix = '40010'\n",
    "series_codes = []\n",
    "\n",
    "for k,v in area_codes.items():\n",
    "    series_code = series_code_prefix + k + series_code_suffix\n",
    "    series_codes.append(series_code)\n",
    "    \n",
    "print(series_codes)"
   ]
  },
  {
   "cell_type": "code",
   "execution_count": 5,
   "metadata": {},
   "outputs": [
    {
     "data": {
      "text/html": [
       "<div>\n",
       "<style scoped>\n",
       "    .dataframe tbody tr th:only-of-type {\n",
       "        vertical-align: middle;\n",
       "    }\n",
       "\n",
       "    .dataframe tbody tr th {\n",
       "        vertical-align: top;\n",
       "    }\n",
       "\n",
       "    .dataframe thead th {\n",
       "        text-align: right;\n",
       "    }\n",
       "</style>\n",
       "<table border=\"1\" class=\"dataframe\">\n",
       "  <thead>\n",
       "    <tr style=\"text-align: right;\">\n",
       "      <th></th>\n",
       "      <th>period</th>\n",
       "      <th>series_id</th>\n",
       "      <th>value</th>\n",
       "      <th>year</th>\n",
       "    </tr>\n",
       "  </thead>\n",
       "  <tbody>\n",
       "    <tr>\n",
       "      <th>0</th>\n",
       "      <td>Q04</td>\n",
       "      <td>ENU0100740010</td>\n",
       "      <td>903</td>\n",
       "      <td>2019</td>\n",
       "    </tr>\n",
       "    <tr>\n",
       "      <th>1</th>\n",
       "      <td>Q03</td>\n",
       "      <td>ENU0100740010</td>\n",
       "      <td>814</td>\n",
       "      <td>2019</td>\n",
       "    </tr>\n",
       "    <tr>\n",
       "      <th>2</th>\n",
       "      <td>Q02</td>\n",
       "      <td>ENU0100740010</td>\n",
       "      <td>808</td>\n",
       "      <td>2019</td>\n",
       "    </tr>\n",
       "    <tr>\n",
       "      <th>3</th>\n",
       "      <td>Q01</td>\n",
       "      <td>ENU0100740010</td>\n",
       "      <td>777</td>\n",
       "      <td>2019</td>\n",
       "    </tr>\n",
       "    <tr>\n",
       "      <th>4</th>\n",
       "      <td>Q04</td>\n",
       "      <td>ENU0100740010</td>\n",
       "      <td>842</td>\n",
       "      <td>2018</td>\n",
       "    </tr>\n",
       "  </tbody>\n",
       "</table>\n",
       "</div>"
      ],
      "text/plain": [
       "  period      series_id value  year\n",
       "0    Q04  ENU0100740010   903  2019\n",
       "1    Q03  ENU0100740010   814  2019\n",
       "2    Q02  ENU0100740010   808  2019\n",
       "3    Q01  ENU0100740010   777  2019\n",
       "4    Q04  ENU0100740010   842  2018"
      ]
     },
     "execution_count": 5,
     "metadata": {},
     "output_type": "execute_result"
    }
   ],
   "source": [
    "## Get our series\n",
    "wage_data = get_bls_data(series_codes, '2010','2019')\n",
    "wage_data.head()"
   ]
  },
  {
   "cell_type": "code",
   "execution_count": 6,
   "metadata": {},
   "outputs": [
    {
     "data": {
      "text/html": [
       "<div>\n",
       "<style scoped>\n",
       "    .dataframe tbody tr th:only-of-type {\n",
       "        vertical-align: middle;\n",
       "    }\n",
       "\n",
       "    .dataframe tbody tr th {\n",
       "        vertical-align: top;\n",
       "    }\n",
       "\n",
       "    .dataframe thead th {\n",
       "        text-align: right;\n",
       "    }\n",
       "</style>\n",
       "<table border=\"1\" class=\"dataframe\">\n",
       "  <thead>\n",
       "    <tr style=\"text-align: right;\">\n",
       "      <th></th>\n",
       "      <th>period</th>\n",
       "      <th>series_id</th>\n",
       "      <th>value</th>\n",
       "      <th>year</th>\n",
       "      <th>county_name</th>\n",
       "    </tr>\n",
       "  </thead>\n",
       "  <tbody>\n",
       "    <tr>\n",
       "      <th>39</th>\n",
       "      <td>Q01</td>\n",
       "      <td>ENU0100740010</td>\n",
       "      <td>584</td>\n",
       "      <td>2010</td>\n",
       "      <td>Bibb County, Alabama</td>\n",
       "    </tr>\n",
       "    <tr>\n",
       "      <th>79</th>\n",
       "      <td>Q01</td>\n",
       "      <td>ENU0100940010</td>\n",
       "      <td>523</td>\n",
       "      <td>2010</td>\n",
       "      <td>Blount County, Alabama</td>\n",
       "    </tr>\n",
       "    <tr>\n",
       "      <th>119</th>\n",
       "      <td>Q01</td>\n",
       "      <td>ENU0101140010</td>\n",
       "      <td>509</td>\n",
       "      <td>2010</td>\n",
       "      <td>Bullock County, Alabama</td>\n",
       "    </tr>\n",
       "    <tr>\n",
       "      <th>38</th>\n",
       "      <td>Q02</td>\n",
       "      <td>ENU0100740010</td>\n",
       "      <td>657</td>\n",
       "      <td>2010</td>\n",
       "      <td>Bibb County, Alabama</td>\n",
       "    </tr>\n",
       "    <tr>\n",
       "      <th>78</th>\n",
       "      <td>Q02</td>\n",
       "      <td>ENU0100940010</td>\n",
       "      <td>554</td>\n",
       "      <td>2010</td>\n",
       "      <td>Blount County, Alabama</td>\n",
       "    </tr>\n",
       "    <tr>\n",
       "      <th>...</th>\n",
       "      <td>...</td>\n",
       "      <td>...</td>\n",
       "      <td>...</td>\n",
       "      <td>...</td>\n",
       "      <td>...</td>\n",
       "    </tr>\n",
       "    <tr>\n",
       "      <th>41</th>\n",
       "      <td>Q03</td>\n",
       "      <td>ENU0100940010</td>\n",
       "      <td>683</td>\n",
       "      <td>2019</td>\n",
       "      <td>Blount County, Alabama</td>\n",
       "    </tr>\n",
       "    <tr>\n",
       "      <th>81</th>\n",
       "      <td>Q03</td>\n",
       "      <td>ENU0101140010</td>\n",
       "      <td>721</td>\n",
       "      <td>2019</td>\n",
       "      <td>Bullock County, Alabama</td>\n",
       "    </tr>\n",
       "    <tr>\n",
       "      <th>0</th>\n",
       "      <td>Q04</td>\n",
       "      <td>ENU0100740010</td>\n",
       "      <td>903</td>\n",
       "      <td>2019</td>\n",
       "      <td>Bibb County, Alabama</td>\n",
       "    </tr>\n",
       "    <tr>\n",
       "      <th>40</th>\n",
       "      <td>Q04</td>\n",
       "      <td>ENU0100940010</td>\n",
       "      <td>729</td>\n",
       "      <td>2019</td>\n",
       "      <td>Blount County, Alabama</td>\n",
       "    </tr>\n",
       "    <tr>\n",
       "      <th>80</th>\n",
       "      <td>Q04</td>\n",
       "      <td>ENU0101140010</td>\n",
       "      <td>783</td>\n",
       "      <td>2019</td>\n",
       "      <td>Bullock County, Alabama</td>\n",
       "    </tr>\n",
       "  </tbody>\n",
       "</table>\n",
       "<p>120 rows × 5 columns</p>\n",
       "</div>"
      ],
      "text/plain": [
       "    period      series_id value  year              county_name\n",
       "39     Q01  ENU0100740010   584  2010     Bibb County, Alabama\n",
       "79     Q01  ENU0100940010   523  2010   Blount County, Alabama\n",
       "119    Q01  ENU0101140010   509  2010  Bullock County, Alabama\n",
       "38     Q02  ENU0100740010   657  2010     Bibb County, Alabama\n",
       "78     Q02  ENU0100940010   554  2010   Blount County, Alabama\n",
       "..     ...            ...   ...   ...                      ...\n",
       "41     Q03  ENU0100940010   683  2019   Blount County, Alabama\n",
       "81     Q03  ENU0101140010   721  2019  Bullock County, Alabama\n",
       "0      Q04  ENU0100740010   903  2019     Bibb County, Alabama\n",
       "40     Q04  ENU0100940010   729  2019   Blount County, Alabama\n",
       "80     Q04  ENU0101140010   783  2019  Bullock County, Alabama\n",
       "\n",
       "[120 rows x 5 columns]"
      ]
     },
     "execution_count": 6,
     "metadata": {},
     "output_type": "execute_result"
    }
   ],
   "source": [
    "## sort all series ascending order by year\n",
    "wage_data.sort_values(by=['year','period'], inplace=True)\n",
    "## map county name to the series\n",
    "for idx, row in wage_data.iterrows():\n",
    "    area = row['series_id'][3:8]\n",
    "    wage_data.loc[idx,'county_name'] = area_codes[area]\n",
    "wage_data"
   ]
  },
  {
   "cell_type": "markdown",
   "metadata": {},
   "source": [
    "Now you have some data to work with that is labelled, sorted, and in a pandas dataframe."
   ]
  }
 ],
 "metadata": {
  "kernelspec": {
   "display_name": "Python 3",
   "language": "python",
   "name": "python3"
  },
  "language_info": {
   "codemirror_mode": {
    "name": "ipython",
    "version": 3
   },
   "file_extension": ".py",
   "mimetype": "text/x-python",
   "name": "python",
   "nbconvert_exporter": "python",
   "pygments_lexer": "ipython3",
   "version": "3.7.4"
  }
 },
 "nbformat": 4,
 "nbformat_minor": 4
}
